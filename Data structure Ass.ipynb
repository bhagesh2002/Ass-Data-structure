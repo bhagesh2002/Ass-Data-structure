{
 "cells": [
  {
   "cell_type": "markdown",
   "id": "fa3e0f83-f106-415b-8e92-4823eb0f7730",
   "metadata": {},
   "source": [
    "1) Discuss string slicing and provide examples?"
   ]
  },
  {
   "cell_type": "markdown",
   "id": "58276ad1-a582-40a7-90fc-03ec82c7e75e",
   "metadata": {},
   "source": [
    "Description:Characters arranged in an unchangeable order. Consider writing a sentence, a paragraph, or a piece of material.\n",
    "Operations: Each character in the string can be accessed by its index, or position. Substrings can be extracted using slicing. Strings can be joined together and altered using a variety of techniques (find, replace, etc.)."
   ]
  },
  {
   "cell_type": "code",
   "execution_count": 1,
   "id": "11183aba-0a91-4ccf-9076-189172d3b4ee",
   "metadata": {},
   "outputs": [
    {
     "data": {
      "text/plain": [
       "'bhag'"
      ]
     },
     "execution_count": 1,
     "metadata": {},
     "output_type": "execute_result"
    }
   ],
   "source": [
    "string=('bhagesh')\n",
    "string[0:4]"
   ]
  },
  {
   "cell_type": "markdown",
   "id": "1fd92318-e29f-40c2-a330-fe05e778b10a",
   "metadata": {},
   "source": [
    "2) Explain the key features of lists in Python ?"
   ]
  },
  {
   "cell_type": "markdown",
   "id": "ea796f6f-b77f-4886-8854-6e5bc1e35f29",
   "metadata": {},
   "source": [
    "Description: Ordered, mutable collections of elements. Think of shopping lists or task lists. Lists can hold items of various data types (numbers, strings, even other lists!).\n",
    "\n",
    "Operations: You can add, remove, or modify elements within a list using indexing and slicing. Lists are versatile for storing and managing collections that might change."
   ]
  },
  {
   "cell_type": "markdown",
   "id": "1e00f628-6a59-4b9f-8188-32af24c1fa8d",
   "metadata": {},
   "source": [
    "3) Describe how to access, modify, and delete elements in a list with examples?"
   ]
  },
  {
   "cell_type": "code",
   "execution_count": 2,
   "id": "4eb7af39-d001-4bb4-8b84-eafdd42486b8",
   "metadata": {},
   "outputs": [
    {
     "data": {
      "text/plain": [
       "'mango'"
      ]
     },
     "execution_count": 2,
     "metadata": {},
     "output_type": "execute_result"
    }
   ],
   "source": [
    "shopping_list=['apple', 'mango', 5, 'pocket']\n",
    "\n",
    "shopping_list[1]"
   ]
  },
  {
   "cell_type": "code",
   "execution_count": 3,
   "id": "6f06995d-e6eb-4cf3-abe2-13674e6fd843",
   "metadata": {},
   "outputs": [],
   "source": [
    "shopping_list[3]='pant'"
   ]
  },
  {
   "cell_type": "code",
   "execution_count": 4,
   "id": "e62f88d9-5cf9-4598-94f7-c47143afae20",
   "metadata": {},
   "outputs": [],
   "source": [
    "shopping_list.append('mop')"
   ]
  },
  {
   "cell_type": "code",
   "execution_count": 5,
   "id": "c04ac3ac-7e44-4e10-89bd-9b85ce600577",
   "metadata": {},
   "outputs": [],
   "source": [
    "del shopping_list[2]"
   ]
  },
  {
   "cell_type": "code",
   "execution_count": 6,
   "id": "88a682f1-5f27-4b9b-8232-62fa99dfe209",
   "metadata": {},
   "outputs": [
    {
     "data": {
      "text/plain": [
       "['apple', 'mango', 'pant', 'mop']"
      ]
     },
     "execution_count": 6,
     "metadata": {},
     "output_type": "execute_result"
    }
   ],
   "source": [
    "shopping_list"
   ]
  },
  {
   "cell_type": "markdown",
   "id": "80d83fd5-6ea6-4d09-bd94-5da3528f41db",
   "metadata": {},
   "source": [
    "4) Compare and contrast tuples and lists with examples?"
   ]
  },
  {
   "cell_type": "markdown",
   "id": "ca15ac51-a8fd-43dc-9705-ad42f4e7be33",
   "metadata": {},
   "source": [
    "List\n",
    "\n",
    "Description: Ordered, mutable collections of elements. Think of shopping lists or task lists. Lists can hold items of various data types (numbers, strings, even other lists!)."
   ]
  },
  {
   "cell_type": "code",
   "execution_count": 7,
   "id": "f207b168-2537-4272-b5c9-731af0c94fcc",
   "metadata": {},
   "outputs": [],
   "source": [
    "shopping_list=['apple', 'mango', 5, 'pocket']\n",
    "\n",
    "shopping_list[3]='pant'"
   ]
  },
  {
   "cell_type": "markdown",
   "id": "b1e2f917-2c38-4cbf-a1f0-c50b86cc36ca",
   "metadata": {},
   "source": [
    "Tuples\n",
    "\n",
    "Description: Ordered, immutable collections of elements, similar to lists. However, once created, the items in a tuple cannot be changed. They provide a secure way to store data that shouldn't be modified.\n",
    "\n",
    "\n",
    "Operations: You can access elements using indexing and slicing, but you cannot modify the content. Tuples are useful for representing fixed datasets or configurations."
   ]
  },
  {
   "cell_type": "code",
   "execution_count": 8,
   "id": "a3613db3-5a20-46f6-a671-d1c75bc29b41",
   "metadata": {},
   "outputs": [
    {
     "ename": "TypeError",
     "evalue": "'tuple' object does not support item assignment",
     "output_type": "error",
     "traceback": [
      "\u001b[0;31m---------------------------------------------------------------------------\u001b[0m",
      "\u001b[0;31mTypeError\u001b[0m                                 Traceback (most recent call last)",
      "Cell \u001b[0;32mIn[8], line 3\u001b[0m\n\u001b[1;32m      1\u001b[0m shopping_list\u001b[38;5;241m=\u001b[39m(\u001b[38;5;124m'\u001b[39m\u001b[38;5;124mapple\u001b[39m\u001b[38;5;124m'\u001b[39m, \u001b[38;5;124m'\u001b[39m\u001b[38;5;124mmango\u001b[39m\u001b[38;5;124m'\u001b[39m, \u001b[38;5;241m5\u001b[39m, \u001b[38;5;124m'\u001b[39m\u001b[38;5;124mpocket\u001b[39m\u001b[38;5;124m'\u001b[39m)\n\u001b[0;32m----> 3\u001b[0m \u001b[43mshopping_list\u001b[49m\u001b[43m[\u001b[49m\u001b[38;5;241;43m3\u001b[39;49m\u001b[43m]\u001b[49m\u001b[38;5;241m=\u001b[39m\u001b[38;5;124m'\u001b[39m\u001b[38;5;124mpant\u001b[39m\u001b[38;5;124m'\u001b[39m\n",
      "\u001b[0;31mTypeError\u001b[0m: 'tuple' object does not support item assignment"
     ]
    }
   ],
   "source": [
    "shopping_list=('apple', 'mango', 5, 'pocket')\n",
    "\n",
    "shopping_list[3]='pant'"
   ]
  },
  {
   "cell_type": "markdown",
   "id": "b20e8ebb-08c4-45bb-a197-8a4f4ed2805a",
   "metadata": {},
   "source": [
    "6) Describe the key features of sets and provide examples of their use ?"
   ]
  },
  {
   "cell_type": "markdown",
   "id": "3c0d3449-2d88-4b8c-b5cc-d47a8037d1b1",
   "metadata": {},
   "source": [
    "Description: Unordered collections of unique elements. The order doesn't matter, and duplicate entries are not allowed. Sets are useful for checking membership (if an item exists) or finding the intersection/difference between sets."
   ]
  },
  {
   "cell_type": "code",
   "execution_count": 10,
   "id": "442acf7c-fe70-4569-bf0b-a40daba56653",
   "metadata": {},
   "outputs": [],
   "source": [
    "a= {'apple', 'mango', 'apple', 'ball'}"
   ]
  },
  {
   "cell_type": "code",
   "execution_count": 11,
   "id": "be349f2e-58a8-4d9a-ac19-27a0446d80e3",
   "metadata": {},
   "outputs": [
    {
     "data": {
      "text/plain": [
       "{'apple', 'ball', 'mango'}"
      ]
     },
     "execution_count": 11,
     "metadata": {},
     "output_type": "execute_result"
    }
   ],
   "source": [
    "a"
   ]
  },
  {
   "cell_type": "markdown",
   "id": "af27848e-df2e-497e-9a33-37b24131e8dc",
   "metadata": {},
   "source": [
    " 6) Discuss the use cases of tuples and sets in Python programming?"
   ]
  },
  {
   "cell_type": "markdown",
   "id": "842a57e6-cdd8-48ac-87f7-28050095c73c",
   "metadata": {},
   "source": [
    "For Tuples you can access elements using indexing and slicing, but you cannot modify the content. Tuples are useful for representing fixed datasets or configurations."
   ]
  },
  {
   "cell_type": "code",
   "execution_count": 12,
   "id": "aa887783-76dc-4896-ae5e-f2af0071c339",
   "metadata": {},
   "outputs": [],
   "source": [
    "client_email_id= ('bhagesh@gmil.com', 'rakesh@gmail.com')"
   ]
  },
  {
   "cell_type": "markdown",
   "id": "1d10fb58-8873-42f4-b997-b092dfcb83db",
   "metadata": {},
   "source": [
    "Sets are Unordered collections of unique elements. The order doesn't matter, and duplicate entries are not allowed. Sets are useful for checking membership (if an item exists) or finding the intersection/difference between sets."
   ]
  },
  {
   "cell_type": "code",
   "execution_count": 13,
   "id": "a6957c1b-9c3f-480f-8832-0c5f7f6f8601",
   "metadata": {},
   "outputs": [],
   "source": [
    "client_email={'bhagesh@gmil.com', 'rakesh@gmail.com','bhagesh@gmil.com'}"
   ]
  },
  {
   "cell_type": "code",
   "execution_count": 14,
   "id": "be7171a1-65fb-4dc5-9af9-55aff0b38d26",
   "metadata": {},
   "outputs": [
    {
     "data": {
      "text/plain": [
       "{'bhagesh@gmil.com', 'rakesh@gmail.com'}"
      ]
     },
     "execution_count": 14,
     "metadata": {},
     "output_type": "execute_result"
    }
   ],
   "source": [
    "client_email"
   ]
  },
  {
   "cell_type": "markdown",
   "id": "ada0840d-2ee0-4484-b854-6d18c711ef0d",
   "metadata": {},
   "source": [
    "7) Describe how to add, modify, and delete items in a dictionary with examples?"
   ]
  },
  {
   "cell_type": "markdown",
   "id": "e910b151-3a68-4905-9684-4210867c7edb",
   "metadata": {},
   "source": [
    "Operations (Basic):\n",
    "\n",
    "\n",
    "Add: Use direct assignment (dictionary_name[key] = value) or .update() method.\n",
    "\n",
    "Access: Retrieve values using their keys (value = dictionary_name[key]).\n",
    "\n",
    "Remove: Use del dictionary_name[key], .pop(key), or .popitem().\n",
    "\n",
    "Check membership: Use the in operator (key in dictionary_name)"
   ]
  },
  {
   "cell_type": "code",
   "execution_count": 39,
   "id": "bcbbe064-adb7-483c-9266-1280609dfc1f",
   "metadata": {},
   "outputs": [],
   "source": [
    "a={'name':'bhagesh','age': 22,'email':'bhagesh@gmail.com','subject':'data analysis'}"
   ]
  },
  {
   "cell_type": "code",
   "execution_count": 41,
   "id": "137e80d1-3e53-4a48-8e30-e95b0e772357",
   "metadata": {},
   "outputs": [],
   "source": [
    "a['name']= 'rakesh'"
   ]
  },
  {
   "cell_type": "code",
   "execution_count": 42,
   "id": "c4c63df5-ca11-48e6-a0b7-e6b4638a328a",
   "metadata": {},
   "outputs": [
    {
     "data": {
      "text/plain": [
       "'bhagesh@gmail.com'"
      ]
     },
     "execution_count": 42,
     "metadata": {},
     "output_type": "execute_result"
    }
   ],
   "source": [
    "a['email']"
   ]
  },
  {
   "cell_type": "code",
   "execution_count": 43,
   "id": "34ab702f-4a62-40d4-af26-0fbb81a76ff9",
   "metadata": {},
   "outputs": [
    {
     "data": {
      "text/plain": [
       "{'name': 'rakesh',\n",
       " 'age': 22,\n",
       " 'email': 'bhagesh@gmail.com',\n",
       " 'subject': 'data analysis'}"
      ]
     },
     "execution_count": 43,
     "metadata": {},
     "output_type": "execute_result"
    }
   ],
   "source": [
    "a"
   ]
  },
  {
   "cell_type": "code",
   "execution_count": 44,
   "id": "58c74c75-341b-4297-aa12-a11808db0f1f",
   "metadata": {},
   "outputs": [],
   "source": [
    "del a['subject']"
   ]
  },
  {
   "cell_type": "code",
   "execution_count": 45,
   "id": "71900518-92d4-4943-89e3-e59deb39fd49",
   "metadata": {},
   "outputs": [
    {
     "data": {
      "text/plain": [
       "{'name': 'rakesh', 'age': 22, 'email': 'bhagesh@gmail.com'}"
      ]
     },
     "execution_count": 45,
     "metadata": {},
     "output_type": "execute_result"
    }
   ],
   "source": [
    "a"
   ]
  },
  {
   "cell_type": "markdown",
   "id": "cae53f1a-0174-45fa-8675-22a321b2a643",
   "metadata": {},
   "source": [
    "8) Discuss the importance of dictionary keys being immutable and provide examples."
   ]
  },
  {
   "cell_type": "markdown",
   "id": "ba971854-8a6a-4826-9b08-d46b1bd75f87",
   "metadata": {},
   "source": [
    "Unordered collections: Elements are not stored in a specific order.\n",
    "\n",
    "Unique key-value pairs: Each key acts as a unique identifier for retrieving an associated value.\n",
    "\n",
    "Flexible data: Keys and values can be of various data types (strings, numbers, lists, even other dictionaries).\n"
   ]
  },
  {
   "cell_type": "code",
   "execution_count": 46,
   "id": "f08d9bf4-8172-4113-89ae-ee77e155cfa5",
   "metadata": {},
   "outputs": [
    {
     "data": {
      "text/plain": [
       "{'name': 'rakesh', 'age': 22, 'email': 'bhagesh@gmail.com'}"
      ]
     },
     "execution_count": 46,
     "metadata": {},
     "output_type": "execute_result"
    }
   ],
   "source": [
    "a"
   ]
  },
  {
   "cell_type": "code",
   "execution_count": 47,
   "id": "86d25979-bcd6-45c9-8eda-7fb39ac302b0",
   "metadata": {},
   "outputs": [
    {
     "data": {
      "text/plain": [
       "True"
      ]
     },
     "execution_count": 47,
     "metadata": {},
     "output_type": "execute_result"
    }
   ],
   "source": [
    "'age' in a"
   ]
  },
  {
   "cell_type": "code",
   "execution_count": 48,
   "id": "e48c77dc-6426-4064-9000-ba82b4cc6697",
   "metadata": {},
   "outputs": [
    {
     "data": {
      "text/plain": [
       "False"
      ]
     },
     "execution_count": 48,
     "metadata": {},
     "output_type": "execute_result"
    }
   ],
   "source": [
    "22 in a"
   ]
  },
  {
   "cell_type": "code",
   "execution_count": 49,
   "id": "ac8ac1f8-626f-4953-8c7f-68054b9952b3",
   "metadata": {},
   "outputs": [
    {
     "ename": "NameError",
     "evalue": "name 'rakesh' is not defined",
     "output_type": "error",
     "traceback": [
      "\u001b[0;31m---------------------------------------------------------------------------\u001b[0m",
      "\u001b[0;31mNameError\u001b[0m                                 Traceback (most recent call last)",
      "Cell \u001b[0;32mIn[49], line 1\u001b[0m\n\u001b[0;32m----> 1\u001b[0m \u001b[43mrakesh\u001b[49m \u001b[38;5;129;01min\u001b[39;00m a\n",
      "\u001b[0;31mNameError\u001b[0m: name 'rakesh' is not defined"
     ]
    }
   ],
   "source": [
    "rakesh in a"
   ]
  },
  {
   "cell_type": "code",
   "execution_count": null,
   "id": "e15b8664-7de2-4007-8d25-fa8dd91c7157",
   "metadata": {},
   "outputs": [],
   "source": []
  }
 ],
 "metadata": {
  "kernelspec": {
   "display_name": "Python 3 (ipykernel)",
   "language": "python",
   "name": "python3"
  },
  "language_info": {
   "codemirror_mode": {
    "name": "ipython",
    "version": 3
   },
   "file_extension": ".py",
   "mimetype": "text/x-python",
   "name": "python",
   "nbconvert_exporter": "python",
   "pygments_lexer": "ipython3",
   "version": "3.10.8"
  }
 },
 "nbformat": 4,
 "nbformat_minor": 5
}
